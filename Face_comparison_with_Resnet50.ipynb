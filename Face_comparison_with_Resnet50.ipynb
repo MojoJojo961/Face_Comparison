{
 "cells": [
  {
   "cell_type": "markdown",
   "metadata": {},
   "source": [
    "## Load libraries"
   ]
  },
  {
   "cell_type": "code",
   "execution_count": 1,
   "metadata": {},
   "outputs": [
    {
     "name": "stderr",
     "output_type": "stream",
     "text": [
      "Using TensorFlow backend.\n"
     ]
    }
   ],
   "source": [
    "import keras\n",
    "from keras import applications\n",
    "from keras.applications.resnet50 import preprocess_input\n",
    "from keras.preprocessing import image\n",
    "import numpy as np\n",
    "import pandas\n",
    "import os"
   ]
  },
  {
   "cell_type": "markdown",
   "metadata": {},
   "source": [
    "## Load a ResNet-50 model without the top layer"
   ]
  },
  {
   "cell_type": "code",
   "execution_count": 2,
   "metadata": {},
   "outputs": [
    {
     "name": "stdout",
     "output_type": "stream",
     "text": [
      "WARNING:tensorflow:From /usr/lib/python3.7/site-packages/tensorflow/python/framework/op_def_library.py:263: colocate_with (from tensorflow.python.framework.ops) is deprecated and will be removed in a future version.\n",
      "Instructions for updating:\n",
      "Colocations handled automatically by placer.\n"
     ]
    }
   ],
   "source": [
    "model = applications.resnet50.ResNet50(weights='imagenet', include_top=False, pooling='avg')"
   ]
  },
  {
   "cell_type": "markdown",
   "metadata": {},
   "source": [
    "## Define a function to extract features from the image using the model"
   ]
  },
  {
   "cell_type": "code",
   "execution_count": 3,
   "metadata": {},
   "outputs": [],
   "source": [
    "def get_feat(img_path):\n",
    "    try:\n",
    "        if os.path.isfile(img_path):\n",
    "            print('is file: {}'.format(img_path))\n",
    "            try:\n",
    "                \n",
    "                # load image setting the image size to 224 x 224\n",
    "                img = image.load_img(img_path, target_size=(224, 224))\n",
    "                \n",
    "                # convert image to numpy array\n",
    "                x = image.img_to_array(img)\n",
    "                \n",
    "                # normalize the image array\n",
    "                x = x.astype('float32')/ 255.\n",
    "                #print(x)\n",
    "                x = np.expand_dims(x, axis=0)\n",
    "                #print(x.shape)\n",
    "                x = np.array(x, dtype='float64')\n",
    "                x = preprocess_input(x)\n",
    "\n",
    "                # extract the features\n",
    "                features = model.predict(x)\n",
    "                #print(features.shape)\n",
    "                features = features.flatten()\n",
    "                #print(features.shape)\n",
    "                \n",
    "                return features\n",
    "            except Exception as ex:\n",
    "                #print(ex)\n",
    "                pass\n",
    "    except Exception as ex:\n",
    "        #print(ex)\n",
    "        pass\n",
    "    return None"
   ]
  },
  {
   "cell_type": "code",
   "execution_count": 4,
   "metadata": {},
   "outputs": [],
   "source": [
    "def printSimilar(result):\n",
    "    if(result< 1.3) : # 1.3 is the threshold and is a type of hyperparameter\n",
    "        print(\"Similar images\")\n",
    "    else:\n",
    "        print(\"Not similar images\")"
   ]
  },
  {
   "cell_type": "code",
   "execution_count": 5,
   "metadata": {},
   "outputs": [
    {
     "name": "stdout",
     "output_type": "stream",
     "text": [
      "is file: ./AVR_data/Aadhithya/Aadhit_CI_01.jpg\n",
      "is file: ./AVR_data/Aadhithya/Aadhit_CO_02.jpg\n",
      "is file: ./AVR_data/Abhijith/Abhijith_CI_01.jpg\n",
      "Similar images\n",
      "Not similar images\n"
     ]
    }
   ],
   "source": [
    "img1 = './AVR_data/Aadhithya/Aadhit_CI_01.jpg'\n",
    "feat1 = get_feat(img1)\n",
    "img2 = './AVR_data/Aadhithya/Aadhit_CO_02.jpg'\n",
    "feat2 = get_feat(img2)\n",
    "img3 = './AVR_data/Abhijith/Abhijith_CI_01.jpg'\n",
    "feat3 = get_feat(img3)\n",
    "#print('shape: {}, {}, {}'.format(feat1.shape, feat2.shape, feat3.shape))\n",
    "#print(res1, res2)\n",
    "d1 = np.subtract(feat1, feat2)\n",
    "d2 = np.subtract(feat1, feat3)\n",
    "#print(d1.shape)\n",
    "res1 = np.around(np.dot(d1, d1), decimals=1)\n",
    "#print(\"Squared l2 distance between representations: {:0.3f}\".format(res1))\n",
    "printSimilar(res1)\n",
    "\n",
    "#print(d2.shape)\n",
    "res2 = np.around(np.dot(d2, d2), decimals=1)\n",
    "#print(\"Squared l2 distance between representations: {:0.3f}\".format(res2))\n",
    "printSimilar(res2)"
   ]
  },
  {
   "cell_type": "code",
   "execution_count": null,
   "metadata": {},
   "outputs": [],
   "source": []
  }
 ],
 "metadata": {
  "kernelspec": {
   "display_name": "Python 3",
   "language": "python",
   "name": "python3"
  },
  "language_info": {
   "codemirror_mode": {
    "name": "ipython",
    "version": 3
   },
   "file_extension": ".py",
   "mimetype": "text/x-python",
   "name": "python",
   "nbconvert_exporter": "python",
   "pygments_lexer": "ipython3",
   "version": "3.7.3"
  }
 },
 "nbformat": 4,
 "nbformat_minor": 2
}
